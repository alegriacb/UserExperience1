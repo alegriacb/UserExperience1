{
 "cells": [
  {
   "cell_type": "markdown",
   "metadata": {
    "id": "jrvwNQJi0P9l"
   },
   "source": [
    "Una empresa de comercio electrónico, Store 1, recientemente comenzó a recopilar datos sobre sus clientes. El objetivo final de Store 1 es comprender mejor el comportamiento de sus clientes y tomar decisiones basadas en datos para mejorar su experiencia online.\n",
    "\n",
    "Como parte del equipo de análisis, tu primera tarea es evaluar la calidad de una muestra de datos recopilados y prepararla para futuros análisis."
   ]
  },
  {
   "cell_type": "markdown",
   "metadata": {
    "id": "2utuFkVZ0P9p"
   },
   "source": [
    "# Cuestionario\n",
    "\n",
    "Store 1 tiene como objetivo garantizar la coherencia en la recopilación de datos. Como parte de esta iniciativa, se debe evaluar la calidad de los datos recopilados sobre los usuarios y las usuarias. Te han pedido que revises los datos recopilados y propongas cambios. A continuación verás datos sobre un usuario o una usuaria en particular; revisa los datos e identifica cualquier posible problema."
   ]
  },
  {
   "cell_type": "code",
   "execution_count": 2,
   "metadata": {
    "id": "v4ldWAes0P9q"
   },
   "outputs": [],
   "source": [
    "user_id = '32415'\n",
    "user_name = ' mike_reed '\n",
    "user_age = 32.0\n",
    "fav_categories = ['ELECTRONICS', 'SPORT', 'BOOKS']"
   ]
  },
  {
   "cell_type": "markdown",
   "metadata": {
    "id": "v5J9NgXf0P9r"
   },
   "source": [
    "**Opciones:**\n",
    "\n",
    "1. El tipo de datos para `user_id` debe cambiarse de una cadena a un número entero.\n",
    "    \n",
    "2. La variable `user_name` contiene una cadena que tiene espacios innecesarios y un guion bajo entre el nombre y el apellido.\n",
    "    \n",
    "3. El tipo de datos de `user_age` es incorrecto.\n",
    "    \n",
    "4. La lista `fav_categories` contiene cadenas en mayúsculas. En su lugar, deberíamos convertir los valores de la lista a minúsculas."
   ]
  },
  {
   "cell_type": "markdown",
   "metadata": {
    "id": "dZRSLSQV0P9s"
   },
   "source": [
    "Escribe en la celda Markdown a continuación el número de las opciones que has identificado como problemas. Si has identificado varios problemas, sepáralos con comas. Por ejemplo, si piensas que los números 1 y 3 son incorrectos, escribe 1, 3."
   ]
  },
  {
   "cell_type": "markdown",
   "metadata": {
    "id": "iCEVoi_A0P9s"
   },
   "source": [
    "**Escribe tu respuesta y explica tu argumentación:**\n",
    "\n",
    "2,3,4 \n",
    "\n",
    "Se debe eliminar los espacios antes y después del nombre, así como cambiar por espacio el guión para que no existan problemas si se quiere trabajar con esa variable en una siguiente ocación.\n",
    "\n",
    "La edad se la debe cambiar de float a int, ya que las edades solo se las maneja como enteros. \n",
    "\n",
    "Es preferible tener cadenas en minusculas para evitar problemas de nombres escritos incorrectamente debido a que si esta en mayusculas o minusculas se considera como 2 valores distintos. \n"
   ]
  },
  {
   "cell_type": "markdown",
   "metadata": {
    "id": "qKAtWDqu0P9t"
   },
   "source": [
    "# Ejercicio 1\n",
    "\n",
    "Vamos a implementar los cambios que identificamos. Primero, necesitamos corregir los problemas de la variable `user_name`. Como vimos, tiene espacios innecesarios y un guion bajo como separador entre el nombre y el apellido; tu objetivo es eliminar los espacios y luego reemplazar el guion bajo con el espacio."
   ]
  },
  {
   "cell_type": "code",
   "execution_count": 4,
   "metadata": {
    "id": "442z87Uq0P9t"
   },
   "outputs": [
    {
     "name": "stdout",
     "output_type": "stream",
     "text": [
      "mike reed\n"
     ]
    }
   ],
   "source": [
    "user_name = ' mike_reed '\n",
    "user_name = user_name.strip() # eliminar los espacios en la cadena original\n",
    "user_name = user_name.replace(\"_\", \" \")# reemplazar el guion bajo con el espacio\n",
    "\n",
    "print(user_name)"
   ]
  },
  {
   "cell_type": "markdown",
   "metadata": {
    "id": "g4YyN4WK0P9t"
   },
   "source": [
    "# Ejercicio 2\n",
    "\n",
    "Luego, debemos dividir el `user_name` (nombre de usuario o usuaria) actualizado en dos subcadenas para obtener una lista que contenga dos valores: la cadena para el nombre y la cadena para el apellido."
   ]
  },
  {
   "cell_type": "code",
   "execution_count": 5,
   "metadata": {
    "id": "Q1L1ARfY0P9u"
   },
   "outputs": [
    {
     "name": "stdout",
     "output_type": "stream",
     "text": [
      "['mike', 'reed']\n"
     ]
    }
   ],
   "source": [
    "user_name = 'mike reed'\n",
    "name_split = user_name.split() # divide aquí el string user_name\n",
    "\n",
    "print(name_split)"
   ]
  },
  {
   "cell_type": "markdown",
   "metadata": {
    "id": "-VWZkZtc0P9u"
   },
   "source": [
    "# Ejercicio 3\n",
    "\n",
    "¡Genial! Ahora debemos trabajar con la variable `user_age`. Como ya mencionamos, esta tiene un tipo de datos incorrecto. Arreglemos este problema transformando el tipo de datos y mostrando el resultado final."
   ]
  },
  {
   "cell_type": "code",
   "execution_count": 6,
   "metadata": {
    "id": "WPpidP470P9u"
   },
   "outputs": [
    {
     "name": "stdout",
     "output_type": "stream",
     "text": [
      "32\n"
     ]
    }
   ],
   "source": [
    "user_age = 32.0\n",
    "user_age = int(user_age) # cambia el tipo de datos para la edad de un usuario o usuaria\n",
    "\n",
    "print(user_age)"
   ]
  },
  {
   "cell_type": "markdown",
   "metadata": {
    "id": "xdfgaKd60P9v"
   },
   "source": [
    "# Ejercicio 4\n",
    "\n",
    "Como sabemos, los datos no siempre son perfectos. Debemos considerar escenarios en los que el valor de `user_age` no se pueda convertir en un número entero. Para evitar que nuestro sistema se bloquee, debemos tomar medidas con anticipación.\n",
    "\n",
    "Escribe un código que intente convertir la variable `user_age` en un número entero y asigna el valor transformado a `user_age_int`. Si el intento falla, mostramos un mensaje pidiendo al usuario o la usuaria que proporcione su edad como un valor numérico con el mensaje: `Please provide your age as a numerical value.` (Proporcione su edad como un valor numérico.)"
   ]
  },
  {
   "cell_type": "code",
   "execution_count": 7,
   "metadata": {
    "id": "duI5zn_O0P9v"
   },
   "outputs": [
    {
     "name": "stdout",
     "output_type": "stream",
     "text": [
      "Please provide your age as a numerical value\n"
     ]
    }
   ],
   "source": [
    "user_age = 'treinta y dos' # aquí está la variable que almacena la edad como un string.\n",
    "\n",
    "# escribe un código que intente transformar user_age en un entero y si falla, imprime el mensaje especificado\n",
    "\n",
    "try: \n",
    "    user_age_int = int(user_age) \n",
    "    print (user_age_int)\n",
    "except: \n",
    "    print ('Please provide your age as a numerical value')\n",
    "    \n",
    "    "
   ]
  },
  {
   "cell_type": "markdown",
   "metadata": {
    "id": "Q04i6KQH0P9v"
   },
   "source": [
    "# Ejercicio 5\n",
    "\n",
    "Finalmente, considera que todas las categorías favoritas se almacenan en mayúsculas. Para llenar una nueva lista llamada `fav_categories_low` con las mismas categorías, pero en minúsculas, itera los valores en la lista `fav_categories`, modifícalos y agrega los nuevos valores a la lista `fav_categories_low`. Como siempre, muestra el resultado final."
   ]
  },
  {
   "cell_type": "code",
   "execution_count": 30,
   "metadata": {
    "id": "AtQg6ie10P9v"
   },
   "outputs": [
    {
     "name": "stdout",
     "output_type": "stream",
     "text": [
      "['electronics', 'sport', 'books']\n"
     ]
    }
   ],
   "source": [
    "fav_categories = ['ELECTRONICS', 'SPORT', 'BOOKS']\n",
    "fav_categories_low = []\n",
    "\n",
    "# escribe tu código aquí\n",
    "for fav in fav_categories: \n",
    "    fav = fav.lower()\n",
    "    fav_categories_low.append (fav)\n",
    "# no elimines la siguiente declaración print\n",
    "print(fav_categories_low)"
   ]
  },
  {
   "cell_type": "markdown",
   "metadata": {
    "id": "w8J0RSee0P9w"
   },
   "source": [
    "# Ejercicio 6\n",
    "\n",
    "Hemos obtenido información adicional sobre los hábitos de gasto de nuestros usuarios y usuarias, incluido el importe gastado en cada una de sus categorías favoritas. La gerencia está interesada en las siguientes métricas:\n",
    "\n",
    "- Importe total gastado por el usuario o la usuaria.\n",
    "- Importe mínimo gastado.\n",
    "- Importe máximo gastado.\n",
    "\n",
    "Vamos a calcular estos valores y mostrarlos en la pantalla:"
   ]
  },
  {
   "cell_type": "code",
   "execution_count": 31,
   "metadata": {
    "id": "BbhBAmcZ0P9w"
   },
   "outputs": [
    {
     "name": "stdout",
     "output_type": "stream",
     "text": [
      "1280\n",
      "894\n",
      "173\n"
     ]
    }
   ],
   "source": [
    "fav_categories_low = ['electronics', 'sport', 'books']\n",
    "spendings_per_category = [894, 213, 173]\n",
    "\n",
    "total_amount = sum(spendings_per_category) # escribe tu código aquí\n",
    "max_amount = max(spendings_per_category)  # escribe tu código aquí\n",
    "min_amount = min(spendings_per_category) # escribe tu código aquí\n",
    "\n",
    "# no elimines la siguiente declaración print\n",
    "print(total_amount)\n",
    "print(max_amount)\n",
    "print(min_amount)"
   ]
  },
  {
   "cell_type": "markdown",
   "metadata": {
    "id": "hyPGzOt60P9w"
   },
   "source": [
    "# Ejercicio 7\n",
    "\n",
    "La empresa quiere ofrecer descuentos a sus clientes leales. Los clientes y las clientas que realizan compras por un importe total mayor a $1500 se consideran leales y recibirán un descuento.\n",
    "\n",
    "Nuestro objetivo es crear un bucle `while` que compruebe el importe total gastado y se detenga al alcanzarlo. Para simular nuevas compras, la variable `new_purchase` genera un número entre 30 y 80 en cada iteración del bucle. Esto representa el importe de dinero gastado en una nueva compra y es lo que hay que sumar al total.\n",
    "\n",
    "Una vez que se alcance el importe objetivo y se termine el bucle `while`, se mostrará la cantidad final."
   ]
  },
  {
   "cell_type": "code",
   "execution_count": 34,
   "metadata": {
    "id": "FmpTfK7C0P9x"
   },
   "outputs": [
    {
     "name": "stdout",
     "output_type": "stream",
     "text": [
      "1511\n"
     ]
    }
   ],
   "source": [
    "from random import randint\n",
    "\n",
    "total_amount_spent = 1280\n",
    "target_amount = 1500\n",
    "\n",
    "while total_amount_spent < target_amount: # escribe tu código aquí\n",
    "\tnew_purchase = randint(30, 80) # generamos un número aleatorio de 30 a 80\n",
    "\ttotal_amount_spent += new_purchase # escribe tu código aquí\n",
    "\n",
    "print(total_amount_spent)"
   ]
  },
  {
   "cell_type": "markdown",
   "metadata": {
    "id": "e9j2dOo60P9x"
   },
   "source": [
    "# Ejercicio 8\n",
    "\n",
    "Ahora tenemos toda la información sobre un cliente o una clienta de la forma que queremos que sea. La gerencia de una empresa nos pidió proponer una forma de resumir toda la información sobre un usuario o una usuaria. Tu objetivo es crear una cadena formateada que utilice información de las variables `user_id`, `user_name` y `user_age`.\n",
    "\n",
    "Esta es la cadena final que queremos crear: `User 32415 is mike who is 32 years old.` (El usuario 32415 es Mike, quien tiene 32 años)."
   ]
  },
  {
   "cell_type": "code",
   "execution_count": 37,
   "metadata": {
    "id": "2dzhjYbm0P9x"
   },
   "outputs": [
    {
     "name": "stdout",
     "output_type": "stream",
     "text": [
      "User 32415 is mike who is 32 years old.\n"
     ]
    }
   ],
   "source": [
    "user_id = '32415'\n",
    "user_name = ['mike', 'reed']\n",
    "user_age = 32\n",
    "\n",
    "user_info = f\"User {user_id} is {user_name[0]} who is {user_age} years old.\" # escribe tu código aquí\n",
    "\n",
    "# no elimines la siguiente declaración print\n",
    "print(user_info)"
   ]
  },
  {
   "cell_type": "markdown",
   "metadata": {
    "id": "hJ38hJYU0P9x"
   },
   "source": [
    "Como sabes, las empresas recopilan y almacenan datos de una forma particular. Store 1 desea almacenar toda la información sobre sus clientes y clientas en una tabla.\n",
    "\n",
    "| user_id | user_name | user_age | purchase_category | spending_per_category |\n",
    "| --- | --- | --- | --- | --- |\n",
    "| '32415' | 'mike', 'reed' | 32 | 'electronics', 'sport', 'books' | 894, 213, 173 |\n",
    "| '31980' | 'kate', 'morgan' | 24 | 'clothes', 'shoes' | 439, 390 |\n",
    "\n",
    "En términos técnicos, una tabla es simplemente una lista anidada que contiene una sublista para cada usuario o usuaria.\n",
    "\n",
    "Store 1 ha creado una tabla de este tipo para sus usuarios y usuarias. Se almacena en la variable `users`. Cada sublista contiene el ID del usuario o la usuaria, nombre y apellido, edad, categorías favoritas y el importe gastado en cada categoría."
   ]
  },
  {
   "cell_type": "markdown",
   "metadata": {
    "id": "J7IXD3Zv0P9x"
   },
   "source": [
    "# Ejercicio 9\n",
    "\n",
    "Para calcular los ingresos de la empresa, sigue estos pasos.\n",
    "\n",
    "1. Utiliza `for` para iterar sobre la lista `users`.\n",
    "2. Extrae la lista de gastos de cada usuario o usuaria y suma los valores.\n",
    "3. Actualiza el valor de los ingresos con el total de cada usuario o usuaria.\n",
    "\n",
    "Así obtendrás los ingresos totales de la empresa que mostrarás en la pantalla al final."
   ]
  },
  {
   "cell_type": "code",
   "execution_count": 39,
   "metadata": {
    "id": "d8jeNWXQ0P9y",
    "scrolled": true
   },
   "outputs": [
    {
     "name": "stdout",
     "output_type": "stream",
     "text": [
      "2109\n"
     ]
    }
   ],
   "source": [
    "users = [\n",
    "\t  # este es el inicio de la primera sublista\n",
    "    ['32415', ['mike', 'reed'], 32, ['electronics', 'sport', 'books'],\n",
    "        [894, 213, 173]\n",
    "    ], # este es el final de la primera sublista\n",
    "\n",
    "    # este es el inicio de la segunda sublista\n",
    "    ['31980', ['kate', 'morgan'], 24, ['clothes', 'shoes'],\n",
    "        [439, 390]\n",
    "    ] # este es el final de la segunda sublista\n",
    "]\n",
    "\n",
    "revenue = 0\n",
    "\n",
    "for user in users:\n",
    "\tspendings_list = user[4] # extrae la lista de gastos de cada usuario o usuaria y suma los valores\n",
    "\ttotal_spendings = sum(spendings_list) # suma los gastos de todas las categorías para obtener el total de un usuario o una usuaria en particular\n",
    "\trevenue += total_spendings # actualiza los ingresos\n",
    "\n",
    "# no elimines la siguiente declaración print\n",
    "print(revenue)"
   ]
  },
  {
   "cell_type": "markdown",
   "metadata": {},
   "source": [
    "# Ejercicio 10\n",
    "\n",
    "Recorre la lista de usuarios y usuarias que te hemos proporcionado y muestra los nombres de la clientela menor de 30 años."
   ]
  },
  {
   "cell_type": "code",
   "execution_count": 73,
   "metadata": {},
   "outputs": [
    {
     "name": "stdout",
     "output_type": "stream",
     "text": [
      "kate morgan\n",
      "samantha smith\n",
      "emily brown\n",
      "jose martinez\n",
      "james lee\n"
     ]
    }
   ],
   "source": [
    "users = [\n",
    "    ['32415', ['mike', 'reed'], 32, ['electronics', 'sport', 'books'],\n",
    "     [894, 213, 173]],\n",
    "    ['31980', ['kate', 'morgan'], 24, ['clothes', 'books'], [439,\n",
    "     390]],\n",
    "    ['32156', ['john', 'doe'], 37, ['electronics', 'home', 'food'],\n",
    "     [459, 120, 99]],\n",
    "    ['32761', ['samantha', 'smith'], 29, ['clothes', 'electronics',\n",
    "     'beauty'], [299, 679, 85]],\n",
    "    ['32984', ['david', 'white'], 41, ['books', 'home', 'sport'], [234,\n",
    "     329, 243]],\n",
    "    ['33001', ['emily', 'brown'], 26, ['beauty', 'home', 'food'], [213,\n",
    "     659, 79]],\n",
    "    ['33767', ['maria', 'garcia'], 33, ['clothes', 'food', 'beauty'],\n",
    "     [499, 189, 63]],\n",
    "    ['33912', ['jose', 'martinez'], 22, ['sport', 'electronics', 'home'\n",
    "     ], [259, 549, 109]],\n",
    "    ['34009', ['lisa', 'wilson'], 35, ['home', 'books', 'clothes'],\n",
    "     [329, 189, 329]],\n",
    "    ['34278', ['james', 'lee'], 28, ['beauty', 'clothes', 'electronics'\n",
    "     ], [189, 299, 579]],\n",
    "    ]\n",
    "\n",
    "# escribe tu código aquí\n",
    "\n",
    "for user in users:\n",
    "    if user [2] < 30:\n",
    "        print (' '.join (user [1]))"
   ]
  },
  {
   "cell_type": "markdown",
   "metadata": {
    "id": "LBHWQenm0P9y"
   },
   "source": [
    "# Ejercicio 11\n",
    "\n",
    "Juntemos las tareas 9 y 10 e imprimamos los nombres de los usuarios y las usuarias que tengan menos de 30 años y un gasto total superior a 1000 dólares."
   ]
  },
  {
   "cell_type": "code",
   "execution_count": 74,
   "metadata": {
    "id": "HaQNXS-V0P9z"
   },
   "outputs": [
    {
     "name": "stdout",
     "output_type": "stream",
     "text": [
      "samantha smith\n",
      "james lee\n"
     ]
    }
   ],
   "source": [
    "users = [\n",
    "    ['32415', ['mike', 'reed'], 32, ['electronics', 'sport', 'books'],\n",
    "     [894, 213, 173]],\n",
    "    ['31980', ['kate', 'morgan'], 24, ['clothes', 'books'], [439,\n",
    "     390]],\n",
    "    ['32156', ['john', 'doe'], 37, ['electronics', 'home', 'food'],\n",
    "     [459, 120, 99]],\n",
    "    ['32761', ['samantha', 'smith'], 29, ['clothes', 'electronics',\n",
    "     'beauty'], [299, 679, 85]],\n",
    "    ['32984', ['david', 'white'], 41, ['books', 'home', 'sport'], [234,\n",
    "     329, 243]],\n",
    "    ['33001', ['emily', 'brown'], 26, ['beauty', 'home', 'food'], [213,\n",
    "     659, 79]],\n",
    "    ['33767', ['maria', 'garcia'], 33, ['clothes', 'food', 'beauty'],\n",
    "     [499, 189, 63]],\n",
    "    ['33912', ['jose', 'martinez'], 22, ['sport', 'electronics', 'home'\n",
    "     ], [259, 549, 109]],\n",
    "    ['34009', ['lisa', 'wilson'], 35, ['home', 'books', 'clothes'],\n",
    "     [329, 189, 329]],\n",
    "    ['34278', ['james', 'lee'], 28, ['beauty', 'clothes', 'electronics'\n",
    "     ], [189, 299, 579]],\n",
    "    ]\n",
    "\n",
    "\n",
    "    # escribe tu código aquí\n",
    "for user in users:\n",
    "    if user [2] < 30 and sum(user [4]) >1000:\n",
    "        print (' '.join (user [1]))\n",
    "    \n"
   ]
  },
  {
   "cell_type": "markdown",
   "metadata": {
    "id": "yRozkK0R0P90"
   },
   "source": [
    "# Ejercicio 12\n",
    "\n",
    "Ahora vamos a mostrar el nombre y la edad de todos los usuarios y todas las usuarias que han comprado ropa. Imprime el nombre y la edad en la misma declaración print."
   ]
  },
  {
   "cell_type": "code",
   "execution_count": 80,
   "metadata": {
    "id": "mSIyHq1f0P90"
   },
   "outputs": [
    {
     "name": "stdout",
     "output_type": "stream",
     "text": [
      "kate morgan is 24 years old\n",
      "samantha smith is 29 years old\n",
      "maria garcia is 33 years old\n",
      "lisa wilson is 35 years old\n",
      "james lee is 28 years old\n"
     ]
    }
   ],
   "source": [
    "users = [\n",
    "    ['32415', ['mike', 'reed'], 32, ['electronics', 'sport', 'books'],\n",
    "     [894, 213, 173]],\n",
    "    ['31980', ['kate', 'morgan'], 24, ['clothes', 'books'], [439,\n",
    "     390]],\n",
    "    ['32156', ['john', 'doe'], 37, ['electronics', 'home', 'food'],\n",
    "     [459, 120, 99]],\n",
    "    ['32761', ['samantha', 'smith'], 29, ['clothes', 'electronics',\n",
    "     'beauty'], [299, 679, 85]],\n",
    "    ['32984', ['david', 'white'], 41, ['books', 'home', 'sport'], [234,\n",
    "     329, 243]],\n",
    "    ['33001', ['emily', 'brown'], 26, ['beauty', 'home', 'food'], [213,\n",
    "     659, 79]],\n",
    "    ['33767', ['maria', 'garcia'], 33, ['clothes', 'food', 'beauty'],\n",
    "     [499, 189, 63]],\n",
    "    ['33912', ['jose', 'martinez'], 22, ['sport', 'electronics', 'home'\n",
    "     ], [259, 549, 109]],\n",
    "    ['34009', ['lisa', 'wilson'], 35, ['home', 'books', 'clothes'],\n",
    "     [329, 189, 329]],\n",
    "    ['34278', ['james', 'lee'], 28, ['beauty', 'clothes', 'electronics'\n",
    "     ], [189, 299, 579]],\n",
    "    ]\n",
    "\n",
    "#escribe tu código aquí\n",
    "\n",
    "for user in users:\n",
    "    if \"clothes\" in user[3]:\n",
    "        #print (user[1] , user[2])\n",
    "        print (f\"{' '.join (user [1])} is {user[2]} years old\")        \n",
    "   "
   ]
  }
 ],
 "metadata": {
  "ExecuteTimeLog": [
   {
    "duration": 10,
    "start_time": "2024-06-28T18:28:10.914Z"
   },
   {
    "duration": 4,
    "start_time": "2024-06-28T18:28:12.069Z"
   },
   {
    "duration": 329,
    "start_time": "2024-06-28T18:37:39.022Z"
   },
   {
    "duration": 6,
    "start_time": "2024-06-28T18:37:57.996Z"
   },
   {
    "duration": 5,
    "start_time": "2024-06-28T18:38:23.979Z"
   },
   {
    "duration": 6,
    "start_time": "2024-06-28T18:41:29.861Z"
   },
   {
    "duration": 5,
    "start_time": "2024-06-28T18:56:14.578Z"
   },
   {
    "duration": 5,
    "start_time": "2024-06-28T19:05:18.666Z"
   },
   {
    "duration": 24,
    "start_time": "2024-06-28T19:06:22.495Z"
   },
   {
    "duration": 6,
    "start_time": "2024-06-28T19:06:29.128Z"
   },
   {
    "duration": 23,
    "start_time": "2024-06-28T19:09:18.726Z"
   },
   {
    "duration": 9,
    "start_time": "2024-06-28T19:10:26.583Z"
   },
   {
    "duration": 25,
    "start_time": "2024-06-28T19:10:31.988Z"
   },
   {
    "duration": 24,
    "start_time": "2024-06-28T19:11:20.535Z"
   },
   {
    "duration": 25,
    "start_time": "2024-06-28T19:11:47.288Z"
   },
   {
    "duration": 5,
    "start_time": "2024-06-28T19:11:58.831Z"
   },
   {
    "duration": 6,
    "start_time": "2024-06-28T19:12:03.031Z"
   },
   {
    "duration": 6,
    "start_time": "2024-06-28T19:12:53.665Z"
   },
   {
    "duration": 6,
    "start_time": "2024-06-28T19:13:13.143Z"
   },
   {
    "duration": 7,
    "start_time": "2024-06-28T19:13:27.291Z"
   },
   {
    "duration": 5,
    "start_time": "2024-06-28T19:14:42.033Z"
   },
   {
    "duration": 5,
    "start_time": "2024-06-28T19:14:48.018Z"
   },
   {
    "duration": 6,
    "start_time": "2024-06-28T19:15:06.473Z"
   },
   {
    "duration": 29,
    "start_time": "2024-06-28T19:15:55.858Z"
   },
   {
    "duration": 7,
    "start_time": "2024-06-28T19:16:06.171Z"
   },
   {
    "duration": 62,
    "start_time": "2024-06-28T19:19:22.074Z"
   },
   {
    "duration": 25,
    "start_time": "2024-06-28T19:22:42.734Z"
   },
   {
    "duration": 25,
    "start_time": "2024-06-28T19:25:01.846Z"
   },
   {
    "duration": 5,
    "start_time": "2024-06-28T19:27:24.006Z"
   },
   {
    "duration": 6,
    "start_time": "2024-06-28T19:30:01.321Z"
   },
   {
    "duration": 7,
    "start_time": "2024-06-28T19:32:53.566Z"
   },
   {
    "duration": 6,
    "start_time": "2024-06-28T19:40:16.782Z"
   },
   {
    "duration": 6,
    "start_time": "2024-06-28T19:40:33.082Z"
   },
   {
    "duration": 6,
    "start_time": "2024-06-28T19:41:01.154Z"
   },
   {
    "duration": 6,
    "start_time": "2024-06-28T19:47:30.593Z"
   },
   {
    "duration": 7,
    "start_time": "2024-06-28T19:47:37.613Z"
   },
   {
    "duration": 5,
    "start_time": "2024-06-28T19:47:41.940Z"
   },
   {
    "duration": 29,
    "start_time": "2024-06-28T20:11:22.326Z"
   },
   {
    "duration": 7,
    "start_time": "2024-06-28T20:11:43.561Z"
   },
   {
    "duration": 11,
    "start_time": "2024-06-28T20:19:53.632Z"
   },
   {
    "duration": 15,
    "start_time": "2024-06-28T20:45:26.133Z"
   },
   {
    "duration": 12,
    "start_time": "2024-06-28T20:45:40.757Z"
   },
   {
    "duration": 12,
    "start_time": "2024-06-28T20:45:50.338Z"
   },
   {
    "duration": 12,
    "start_time": "2024-06-28T20:46:11.426Z"
   },
   {
    "duration": 16,
    "start_time": "2024-06-28T21:12:40.567Z"
   },
   {
    "duration": 13,
    "start_time": "2024-06-28T21:12:52.130Z"
   },
   {
    "duration": 13,
    "start_time": "2024-06-28T21:13:02.187Z"
   },
   {
    "duration": 13,
    "start_time": "2024-06-28T21:15:09.969Z"
   },
   {
    "duration": 12,
    "start_time": "2024-06-28T21:15:59.308Z"
   },
   {
    "duration": 39,
    "start_time": "2024-06-28T21:18:18.658Z"
   },
   {
    "duration": 12,
    "start_time": "2024-06-28T21:19:24.348Z"
   },
   {
    "duration": 12,
    "start_time": "2024-06-28T21:24:35.792Z"
   },
   {
    "duration": 11,
    "start_time": "2024-06-28T21:28:34.551Z"
   },
   {
    "duration": 30,
    "start_time": "2024-06-28T21:33:26.254Z"
   },
   {
    "duration": 69,
    "start_time": "2024-06-28T21:33:47.511Z"
   },
   {
    "duration": 13,
    "start_time": "2024-06-28T21:34:07.767Z"
   },
   {
    "duration": 14,
    "start_time": "2024-06-28T21:35:27.562Z"
   },
   {
    "duration": 14,
    "start_time": "2024-06-28T21:36:28.806Z"
   },
   {
    "duration": 4,
    "start_time": "2024-06-28T21:38:12.807Z"
   },
   {
    "duration": 5,
    "start_time": "2024-06-28T21:38:14.925Z"
   },
   {
    "duration": 4,
    "start_time": "2024-06-28T21:38:18.055Z"
   },
   {
    "duration": 4,
    "start_time": "2024-06-28T21:38:33.622Z"
   },
   {
    "duration": 4,
    "start_time": "2024-06-28T21:38:35.291Z"
   },
   {
    "duration": 7,
    "start_time": "2024-06-28T21:39:15.415Z"
   },
   {
    "duration": 7,
    "start_time": "2024-06-28T21:40:38.731Z"
   },
   {
    "duration": 15,
    "start_time": "2024-06-28T21:41:14.472Z"
   },
   {
    "duration": 15,
    "start_time": "2024-06-28T21:41:57.448Z"
   },
   {
    "duration": 13,
    "start_time": "2024-06-28T21:43:44.458Z"
   },
   {
    "duration": 12,
    "start_time": "2024-06-28T21:44:06.820Z"
   },
   {
    "duration": 16,
    "start_time": "2024-06-28T21:46:48.623Z"
   },
   {
    "duration": 12,
    "start_time": "2024-06-28T21:46:57.997Z"
   },
   {
    "duration": 13,
    "start_time": "2024-06-28T21:47:07.067Z"
   },
   {
    "duration": 16,
    "start_time": "2024-06-28T21:48:11.155Z"
   },
   {
    "duration": 13,
    "start_time": "2024-06-28T21:48:47.773Z"
   },
   {
    "duration": 11,
    "start_time": "2024-06-28T21:49:42.411Z"
   },
   {
    "duration": 12,
    "start_time": "2024-06-28T21:50:29.272Z"
   },
   {
    "duration": 12,
    "start_time": "2024-06-28T21:51:19.491Z"
   },
   {
    "duration": 15,
    "start_time": "2024-06-28T21:53:40.630Z"
   },
   {
    "duration": 12,
    "start_time": "2024-06-28T21:54:35.376Z"
   },
   {
    "duration": 12,
    "start_time": "2024-06-28T21:55:30.855Z"
   }
  ],
  "colab": {
   "provenance": []
  },
  "kernelspec": {
   "display_name": "Python 3 (ipykernel)",
   "language": "python",
   "name": "python3"
  },
  "language_info": {
   "codemirror_mode": {
    "name": "ipython",
    "version": 3
   },
   "file_extension": ".py",
   "mimetype": "text/x-python",
   "name": "python",
   "nbconvert_exporter": "python",
   "pygments_lexer": "ipython3",
   "version": "3.9.19"
  },
  "toc": {
   "base_numbering": 1,
   "nav_menu": {},
   "number_sections": true,
   "sideBar": true,
   "skip_h1_title": true,
   "title_cell": "Table of Contents",
   "title_sidebar": "Contents",
   "toc_cell": false,
   "toc_position": {},
   "toc_section_display": true,
   "toc_window_display": false
  }
 },
 "nbformat": 4,
 "nbformat_minor": 1
}
